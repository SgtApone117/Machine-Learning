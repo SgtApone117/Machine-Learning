{
 "cells": [
  {
   "cell_type": "markdown",
   "id": "eb0102d3",
   "metadata": {},
   "source": [
    "# Pandas - DataFrames and Series\n",
    "***\n",
    "Pandas is a powerful data manipulation library in python, widely used for data analysis and data cleaning. It Provides two primary data structures: `Series` and `DataFrame`. Series is a 1-D array-like object, while DataFrames is a 2-D, size-mutable, potentially hetrogeneous tabular data structure with labled axes (rows and columns)"
   ]
  },
  {
   "cell_type": "code",
   "execution_count": 2,
   "id": "8e1f1c21",
   "metadata": {},
   "outputs": [
    {
     "name": "stdout",
     "output_type": "stream",
     "text": [
      "0    1\n",
      "1    2\n",
      "2    3\n",
      "3    4\n",
      "4    5\n",
      "dtype: int64\n",
      "<class 'pandas.core.series.Series'>\n"
     ]
    }
   ],
   "source": [
    "import pandas as pd\n",
    "\n",
    "## Series\n",
    "## A panda series is a 1-D array like object that can hold any data type. It is similar to column in table\n",
    "\n",
    "data = [1,2,3,4,5]\n",
    "series = pd.Series(data)\n",
    "print(series)\n",
    "print(type(series))"
   ]
  },
  {
   "cell_type": "code",
   "execution_count": 3,
   "id": "8c355551",
   "metadata": {},
   "outputs": [
    {
     "name": "stdout",
     "output_type": "stream",
     "text": [
      "a    1\n",
      "b    2\n",
      "c    3\n",
      "dtype: int64\n"
     ]
    }
   ],
   "source": [
    "## Create series from dictionary\n",
    "## Keys will be index or ID and values will be the column values\n",
    "data = {'a':1, 'b': 2, 'c':3}\n",
    "series = pd.Series(data)\n",
    "print(series)"
   ]
  },
  {
   "cell_type": "code",
   "execution_count": 4,
   "id": "c2ff14ed",
   "metadata": {},
   "outputs": [
    {
     "data": {
      "text/plain": [
       "s    10\n",
       "u    20\n",
       "m    30\n",
       "dtype: int64"
      ]
     },
     "execution_count": 4,
     "metadata": {},
     "output_type": "execute_result"
    }
   ],
   "source": [
    "## Custom series\n",
    "## We can use custom indexes from list\n",
    "data = [10,20,30]\n",
    "index = ['s','u','m']\n",
    "pd.Series(data,index)\n"
   ]
  },
  {
   "cell_type": "code",
   "execution_count": null,
   "id": "df96624c",
   "metadata": {},
   "outputs": [
    {
     "name": "stdout",
     "output_type": "stream",
     "text": [
      "       Name  Age        City\n",
      "0    Sumeet   25      Nagpur\n",
      "1    Vidura   46  Hastinapur\n",
      "2  Dhaumuya   45     Mithila\n",
      "<class 'pandas.core.frame.DataFrame'>\n"
     ]
    }
   ],
   "source": [
    "## DataFrame\n",
    "## Create a DataFrame from a dictionary of list\n",
    "## 2D- Dimensional with multiple rows and columns\n",
    "data = {\n",
    "    \"Name\": [\"Sumeet\", \"Vidura\", \"Dhaumuya\"],\n",
    "    \"Age\": [25,46,45],\n",
    "    \"City\": [\"Nagpur\", \"Hastinapur\", \"Mithila\"]\n",
    "}\n",
    "\n",
    "df = pd.DataFrame(data)\n",
    "print(df)\n",
    "print(type(df))"
   ]
  },
  {
   "cell_type": "code",
   "execution_count": 6,
   "id": "870e3859",
   "metadata": {},
   "outputs": [
    {
     "name": "stdout",
     "output_type": "stream",
     "text": [
      "{'Name': ['Sumeet', 'Vidura', 'Dhaumuya'], 'Age': [25, 46, 45], 'City': ['Nagpur', 'Hastinapur', 'Mithila']}\n"
     ]
    }
   ],
   "source": [
    "import numpy as np\n",
    "arr = np.array(data)\n",
    "print(arr)"
   ]
  },
  {
   "cell_type": "code",
   "execution_count": null,
   "id": "da909e1c",
   "metadata": {},
   "outputs": [
    {
     "name": "stdout",
     "output_type": "stream",
     "text": [
      "     Name  Age    City\n",
      "0  Sumeet   25  Nagpur\n",
      "1   Sumee   26   agpur\n",
      "2    Sume   27    gpur\n",
      "3     Sum   28     pur\n",
      "<class 'pandas.core.frame.DataFrame'>\n"
     ]
    }
   ],
   "source": [
    "## Create a DataFrame from list of dictionaries\n",
    "data = [\n",
    "    {\"Name\": \"Sumeet\",\"Age\": 25,\"City\": \"Nagpur\"}, # row 1\n",
    "    {\"Name\": \"Sumee\",\"Age\": 26,\"City\": \"agpur\"}, # row 2\n",
    "    {\"Name\": \"Sume\",\"Age\": 27,\"City\": \"gpur\"}, # row 3\n",
    "    {\"Name\": \"Sum\",\"Age\": 28,\"City\": \"pur\"} # row 4\n",
    "]\n",
    "data = pd.DataFrame(data)\n",
    "print(data)\n",
    "print(type(data))\n"
   ]
  },
  {
   "cell_type": "code",
   "execution_count": 8,
   "id": "8f32b1b1",
   "metadata": {},
   "outputs": [
    {
     "name": "stdout",
     "output_type": "stream",
     "text": [
      "  Order ID  Amount  Profit  Quantity     Category      Sub-Category  \\\n",
      "0  B-25681    1096     658         7  Electronics  Electronic Games   \n",
      "1  B-26055    5729      64        14    Furniture            Chairs   \n",
      "2  B-25955    2927     146         8    Furniture         Bookcases   \n",
      "3  B-26093    2847     712         8  Electronics          Printers   \n",
      "4  B-25602    2617    1151         4  Electronics            Phones   \n",
      "\n",
      "   PaymentMode  \n",
      "0          COD  \n",
      "1          EMI  \n",
      "2          EMI  \n",
      "3  Credit Card  \n",
      "4  Credit Card  \n",
      "\n",
      "     Order ID  Amount  Profit  Quantity     Category Sub-Category PaymentMode\n",
      "1495  B-25700       7      -3         2     Clothing  Hankerchief         COD\n",
      "1496  B-25757    3151     -35         7     Clothing     Trousers         EMI\n",
      "1497  B-25973    4141    1698        13  Electronics     Printers         COD\n",
      "1498  B-25698       7      -2         1     Clothing  Hankerchief         COD\n",
      "1499  B-25993    4363     305         5    Furniture       Tables         EMI\n"
     ]
    }
   ],
   "source": [
    "df = pd.read_csv(\"Details.csv\")\n",
    "print(df.head(5))\n",
    "print()\n",
    "print(df.tail(5))"
   ]
  },
  {
   "cell_type": "code",
   "execution_count": 9,
   "id": "dfb152b2",
   "metadata": {},
   "outputs": [
    {
     "name": "stdout",
     "output_type": "stream",
     "text": [
      "     Name  Age    City\n",
      "0  Sumeet   25  Nagpur\n",
      "1   Sumee   26   agpur\n",
      "2    Sume   27    gpur\n",
      "3     Sum   28     pur\n",
      "<class 'pandas.core.frame.DataFrame'>\n",
      "0    Sumeet\n",
      "1     Sumee\n",
      "2      Sume\n",
      "3       Sum\n",
      "Name: Name, dtype: object\n",
      "<class 'pandas.core.series.Series'>\n"
     ]
    }
   ],
   "source": [
    "## Create a DataFrame from list of dictionaries\n",
    "data = [\n",
    "    {\"Name\": \"Sumeet\",\"Age\": 25,\"City\": \"Nagpur\"},\n",
    "    {\"Name\": \"Sumee\",\"Age\": 26,\"City\": \"agpur\"},\n",
    "    {\"Name\": \"Sume\",\"Age\": 27,\"City\": \"gpur\"},\n",
    "    {\"Name\": \"Sum\",\"Age\": 28,\"City\": \"pur\"}\n",
    "]\n",
    "data = pd.DataFrame(data)\n",
    "print(data)\n",
    "print(type(data))\n",
    "print(data[\"Name\"])\n",
    "print(type(data[\"Name\"]))\n",
    "\n"
   ]
  },
  {
   "cell_type": "code",
   "execution_count": 24,
   "id": "3d0e394a",
   "metadata": {},
   "outputs": [
    {
     "name": "stdout",
     "output_type": "stream",
     "text": [
      "Name    Sumeet\n",
      "Age         25\n",
      "City    Nagpur\n",
      "Name: 0, dtype: object\n",
      "\n",
      "Nagpur\n"
     ]
    }
   ],
   "source": [
    "## .loc() stands with row index gets particular rows\n",
    "## it gets from index label i.e. if index is 'a' then it gets that row\n",
    "print(data.loc[0])\n",
    "print()\n",
    "print(data.loc[0]['City'])\n"
   ]
  },
  {
   "cell_type": "code",
   "execution_count": 33,
   "id": "796de0f6",
   "metadata": {},
   "outputs": [
    {
     "name": "stdout",
     "output_type": "stream",
     "text": [
      "Name    Sum\n",
      "Age      28\n",
      "City    pur\n",
      "Name: 3, dtype: object\n",
      "\n",
      "Sumeet\n"
     ]
    }
   ],
   "source": [
    "## .iloc() uses index of the matrix\n",
    "## gets 0th position of the index column if 0th index is z then it gets zth row\n",
    "print(data.iloc[3])\n",
    "print()\n",
    "print(data.iloc[0,0])"
   ]
  },
  {
   "cell_type": "code",
   "execution_count": 21,
   "id": "1a868e03",
   "metadata": {},
   "outputs": [
    {
     "data": {
      "text/html": [
       "<div>\n",
       "<style scoped>\n",
       "    .dataframe tbody tr th:only-of-type {\n",
       "        vertical-align: middle;\n",
       "    }\n",
       "\n",
       "    .dataframe tbody tr th {\n",
       "        vertical-align: top;\n",
       "    }\n",
       "\n",
       "    .dataframe thead th {\n",
       "        text-align: right;\n",
       "    }\n",
       "</style>\n",
       "<table border=\"1\" class=\"dataframe\">\n",
       "  <thead>\n",
       "    <tr style=\"text-align: right;\">\n",
       "      <th></th>\n",
       "      <th>Name</th>\n",
       "      <th>Age</th>\n",
       "      <th>City</th>\n",
       "    </tr>\n",
       "  </thead>\n",
       "  <tbody>\n",
       "    <tr>\n",
       "      <th>0</th>\n",
       "      <td>Sumeet</td>\n",
       "      <td>25</td>\n",
       "      <td>Nagpur</td>\n",
       "    </tr>\n",
       "    <tr>\n",
       "      <th>1</th>\n",
       "      <td>Sumee</td>\n",
       "      <td>26</td>\n",
       "      <td>agpur</td>\n",
       "    </tr>\n",
       "    <tr>\n",
       "      <th>2</th>\n",
       "      <td>Sume</td>\n",
       "      <td>27</td>\n",
       "      <td>gpur</td>\n",
       "    </tr>\n",
       "    <tr>\n",
       "      <th>3</th>\n",
       "      <td>Sum</td>\n",
       "      <td>28</td>\n",
       "      <td>pur</td>\n",
       "    </tr>\n",
       "  </tbody>\n",
       "</table>\n",
       "</div>"
      ],
      "text/plain": [
       "     Name  Age    City\n",
       "0  Sumeet   25  Nagpur\n",
       "1   Sumee   26   agpur\n",
       "2    Sume   27    gpur\n",
       "3     Sum   28     pur"
      ]
     },
     "execution_count": 21,
     "metadata": {},
     "output_type": "execute_result"
    }
   ],
   "source": [
    "data"
   ]
  },
  {
   "cell_type": "code",
   "execution_count": 22,
   "id": "15bb0c44",
   "metadata": {},
   "outputs": [
    {
     "data": {
      "text/plain": [
       "'gpur'"
      ]
     },
     "execution_count": 22,
     "metadata": {},
     "output_type": "execute_result"
    }
   ],
   "source": [
    "## to get specified element from the dataframe\n",
    "## .at[index, 'column_name]\n",
    "data.at[2,'City']\n"
   ]
  },
  {
   "cell_type": "code",
   "execution_count": null,
   "id": "1e5405e5",
   "metadata": {},
   "outputs": [
    {
     "data": {
      "text/plain": [
       "'pur'"
      ]
     },
     "execution_count": 34,
     "metadata": {},
     "output_type": "execute_result"
    }
   ],
   "source": [
    "## to get specific row and column using row and column index use\n",
    "## .iat[row_index,column_index]\n",
    "data.iat[3,2]"
   ]
  },
  {
   "cell_type": "markdown",
   "id": "a27fe2c1",
   "metadata": {},
   "source": [
    "### Data manipulation with dataframe"
   ]
  },
  {
   "cell_type": "code",
   "execution_count": 35,
   "id": "5e4e9783",
   "metadata": {},
   "outputs": [
    {
     "data": {
      "text/html": [
       "<div>\n",
       "<style scoped>\n",
       "    .dataframe tbody tr th:only-of-type {\n",
       "        vertical-align: middle;\n",
       "    }\n",
       "\n",
       "    .dataframe tbody tr th {\n",
       "        vertical-align: top;\n",
       "    }\n",
       "\n",
       "    .dataframe thead th {\n",
       "        text-align: right;\n",
       "    }\n",
       "</style>\n",
       "<table border=\"1\" class=\"dataframe\">\n",
       "  <thead>\n",
       "    <tr style=\"text-align: right;\">\n",
       "      <th></th>\n",
       "      <th>Name</th>\n",
       "      <th>Age</th>\n",
       "      <th>City</th>\n",
       "    </tr>\n",
       "  </thead>\n",
       "  <tbody>\n",
       "    <tr>\n",
       "      <th>0</th>\n",
       "      <td>Sumeet</td>\n",
       "      <td>25</td>\n",
       "      <td>Nagpur</td>\n",
       "    </tr>\n",
       "    <tr>\n",
       "      <th>1</th>\n",
       "      <td>Sumee</td>\n",
       "      <td>26</td>\n",
       "      <td>agpur</td>\n",
       "    </tr>\n",
       "    <tr>\n",
       "      <th>2</th>\n",
       "      <td>Sume</td>\n",
       "      <td>27</td>\n",
       "      <td>gpur</td>\n",
       "    </tr>\n",
       "    <tr>\n",
       "      <th>3</th>\n",
       "      <td>Sum</td>\n",
       "      <td>28</td>\n",
       "      <td>pur</td>\n",
       "    </tr>\n",
       "  </tbody>\n",
       "</table>\n",
       "</div>"
      ],
      "text/plain": [
       "     Name  Age    City\n",
       "0  Sumeet   25  Nagpur\n",
       "1   Sumee   26   agpur\n",
       "2    Sume   27    gpur\n",
       "3     Sum   28     pur"
      ]
     },
     "execution_count": 35,
     "metadata": {},
     "output_type": "execute_result"
    }
   ],
   "source": [
    "data"
   ]
  },
  {
   "cell_type": "code",
   "execution_count": 37,
   "id": "273b403d",
   "metadata": {},
   "outputs": [],
   "source": [
    "### add new cloumn to data frame\n",
    "data[\"Salary\"] = [10000,20000,30000,40000]"
   ]
  },
  {
   "cell_type": "code",
   "execution_count": 38,
   "id": "22d7a300",
   "metadata": {},
   "outputs": [
    {
     "data": {
      "text/html": [
       "<div>\n",
       "<style scoped>\n",
       "    .dataframe tbody tr th:only-of-type {\n",
       "        vertical-align: middle;\n",
       "    }\n",
       "\n",
       "    .dataframe tbody tr th {\n",
       "        vertical-align: top;\n",
       "    }\n",
       "\n",
       "    .dataframe thead th {\n",
       "        text-align: right;\n",
       "    }\n",
       "</style>\n",
       "<table border=\"1\" class=\"dataframe\">\n",
       "  <thead>\n",
       "    <tr style=\"text-align: right;\">\n",
       "      <th></th>\n",
       "      <th>Name</th>\n",
       "      <th>Age</th>\n",
       "      <th>City</th>\n",
       "      <th>Salary</th>\n",
       "    </tr>\n",
       "  </thead>\n",
       "  <tbody>\n",
       "    <tr>\n",
       "      <th>0</th>\n",
       "      <td>Sumeet</td>\n",
       "      <td>25</td>\n",
       "      <td>Nagpur</td>\n",
       "      <td>10000</td>\n",
       "    </tr>\n",
       "    <tr>\n",
       "      <th>1</th>\n",
       "      <td>Sumee</td>\n",
       "      <td>26</td>\n",
       "      <td>agpur</td>\n",
       "      <td>20000</td>\n",
       "    </tr>\n",
       "    <tr>\n",
       "      <th>2</th>\n",
       "      <td>Sume</td>\n",
       "      <td>27</td>\n",
       "      <td>gpur</td>\n",
       "      <td>30000</td>\n",
       "    </tr>\n",
       "    <tr>\n",
       "      <th>3</th>\n",
       "      <td>Sum</td>\n",
       "      <td>28</td>\n",
       "      <td>pur</td>\n",
       "      <td>40000</td>\n",
       "    </tr>\n",
       "  </tbody>\n",
       "</table>\n",
       "</div>"
      ],
      "text/plain": [
       "     Name  Age    City  Salary\n",
       "0  Sumeet   25  Nagpur   10000\n",
       "1   Sumee   26   agpur   20000\n",
       "2    Sume   27    gpur   30000\n",
       "3     Sum   28     pur   40000"
      ]
     },
     "execution_count": 38,
     "metadata": {},
     "output_type": "execute_result"
    }
   ],
   "source": [
    "data"
   ]
  },
  {
   "cell_type": "code",
   "execution_count": 44,
   "id": "dc0f03e0",
   "metadata": {},
   "outputs": [],
   "source": [
    "## To remove a row use `drop(label_name,axis=0,inplace=False)` keyword\n",
    "## by default it will check only row\n",
    "## to check specific column use axis=1\n",
    "## By default drop operations are not permanent\n",
    "## to remove the row or column permanently use inplace=True attribute in the drop function by default this will be false\n",
    "data.drop(\"Salary\",axis=1,inplace=True)\n"
   ]
  },
  {
   "cell_type": "code",
   "execution_count": 45,
   "id": "dd99738f",
   "metadata": {},
   "outputs": [
    {
     "data": {
      "text/html": [
       "<div>\n",
       "<style scoped>\n",
       "    .dataframe tbody tr th:only-of-type {\n",
       "        vertical-align: middle;\n",
       "    }\n",
       "\n",
       "    .dataframe tbody tr th {\n",
       "        vertical-align: top;\n",
       "    }\n",
       "\n",
       "    .dataframe thead th {\n",
       "        text-align: right;\n",
       "    }\n",
       "</style>\n",
       "<table border=\"1\" class=\"dataframe\">\n",
       "  <thead>\n",
       "    <tr style=\"text-align: right;\">\n",
       "      <th></th>\n",
       "      <th>Name</th>\n",
       "      <th>Age</th>\n",
       "      <th>City</th>\n",
       "    </tr>\n",
       "  </thead>\n",
       "  <tbody>\n",
       "    <tr>\n",
       "      <th>0</th>\n",
       "      <td>Sumeet</td>\n",
       "      <td>25</td>\n",
       "      <td>Nagpur</td>\n",
       "    </tr>\n",
       "    <tr>\n",
       "      <th>1</th>\n",
       "      <td>Sumee</td>\n",
       "      <td>26</td>\n",
       "      <td>agpur</td>\n",
       "    </tr>\n",
       "    <tr>\n",
       "      <th>2</th>\n",
       "      <td>Sume</td>\n",
       "      <td>27</td>\n",
       "      <td>gpur</td>\n",
       "    </tr>\n",
       "    <tr>\n",
       "      <th>3</th>\n",
       "      <td>Sum</td>\n",
       "      <td>28</td>\n",
       "      <td>pur</td>\n",
       "    </tr>\n",
       "  </tbody>\n",
       "</table>\n",
       "</div>"
      ],
      "text/plain": [
       "     Name  Age    City\n",
       "0  Sumeet   25  Nagpur\n",
       "1   Sumee   26   agpur\n",
       "2    Sume   27    gpur\n",
       "3     Sum   28     pur"
      ]
     },
     "execution_count": 45,
     "metadata": {},
     "output_type": "execute_result"
    }
   ],
   "source": [
    "data"
   ]
  },
  {
   "cell_type": "code",
   "execution_count": 47,
   "id": "d891998e",
   "metadata": {},
   "outputs": [],
   "source": [
    "### To increment a value in the column or row\n",
    "data[\"Age\"] = data[\"Age\"]+1"
   ]
  },
  {
   "cell_type": "code",
   "execution_count": 48,
   "id": "e6dffc4a",
   "metadata": {},
   "outputs": [
    {
     "data": {
      "text/html": [
       "<div>\n",
       "<style scoped>\n",
       "    .dataframe tbody tr th:only-of-type {\n",
       "        vertical-align: middle;\n",
       "    }\n",
       "\n",
       "    .dataframe tbody tr th {\n",
       "        vertical-align: top;\n",
       "    }\n",
       "\n",
       "    .dataframe thead th {\n",
       "        text-align: right;\n",
       "    }\n",
       "</style>\n",
       "<table border=\"1\" class=\"dataframe\">\n",
       "  <thead>\n",
       "    <tr style=\"text-align: right;\">\n",
       "      <th></th>\n",
       "      <th>Name</th>\n",
       "      <th>Age</th>\n",
       "      <th>City</th>\n",
       "    </tr>\n",
       "  </thead>\n",
       "  <tbody>\n",
       "    <tr>\n",
       "      <th>0</th>\n",
       "      <td>Sumeet</td>\n",
       "      <td>26</td>\n",
       "      <td>Nagpur</td>\n",
       "    </tr>\n",
       "    <tr>\n",
       "      <th>1</th>\n",
       "      <td>Sumee</td>\n",
       "      <td>27</td>\n",
       "      <td>agpur</td>\n",
       "    </tr>\n",
       "    <tr>\n",
       "      <th>2</th>\n",
       "      <td>Sume</td>\n",
       "      <td>28</td>\n",
       "      <td>gpur</td>\n",
       "    </tr>\n",
       "    <tr>\n",
       "      <th>3</th>\n",
       "      <td>Sum</td>\n",
       "      <td>29</td>\n",
       "      <td>pur</td>\n",
       "    </tr>\n",
       "  </tbody>\n",
       "</table>\n",
       "</div>"
      ],
      "text/plain": [
       "     Name  Age    City\n",
       "0  Sumeet   26  Nagpur\n",
       "1   Sumee   27   agpur\n",
       "2    Sume   28    gpur\n",
       "3     Sum   29     pur"
      ]
     },
     "execution_count": 48,
     "metadata": {},
     "output_type": "execute_result"
    }
   ],
   "source": [
    "data"
   ]
  },
  {
   "cell_type": "code",
   "execution_count": null,
   "id": "c53cd291",
   "metadata": {},
   "outputs": [],
   "source": []
  }
 ],
 "metadata": {
  "kernelspec": {
   "display_name": "venv",
   "language": "python",
   "name": "venv"
  },
  "language_info": {
   "codemirror_mode": {
    "name": "ipython",
    "version": 3
   },
   "file_extension": ".py",
   "mimetype": "text/x-python",
   "name": "python",
   "nbconvert_exporter": "python",
   "pygments_lexer": "ipython3",
   "version": "3.13.5"
  }
 },
 "nbformat": 4,
 "nbformat_minor": 5
}
