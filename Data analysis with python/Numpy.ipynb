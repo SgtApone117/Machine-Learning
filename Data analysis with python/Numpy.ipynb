{
 "cells": [
  {
   "cell_type": "markdown",
   "id": "33cb6473",
   "metadata": {},
   "source": [
    "# Numpy\n",
    "***\n",
    "Numpy is a fundamental library for scientific computing for python. It provides support for arrays and matrice, along with collection of mathematical functions to operate on these data structures. In this module, i will note down basics of Numpy, focusing on arrays and vectorized operations."
   ]
  },
  {
   "cell_type": "markdown",
   "id": "7c95b76d",
   "metadata": {},
   "source": [
    "## Create 1-D array using Numpy\n",
    "***"
   ]
  },
  {
   "cell_type": "code",
   "execution_count": 2,
   "id": "50abe572",
   "metadata": {},
   "outputs": [
    {
     "name": "stdout",
     "output_type": "stream",
     "text": [
      "[1 2 3 4 5]\n",
      "<class 'numpy.ndarray'>\n",
      "(5,)\n"
     ]
    }
   ],
   "source": [
    "import numpy as np\n",
    "arr1 = np.array([1,2,3,4,5])\n",
    "print(arr1)\n",
    "## type of arr1\n",
    "print(type(arr1))\n",
    "## check dimensions of arr1\n",
    "print(arr1.shape)\n",
    "## For 1-D array only element count is shown not row and column hence it shows (element_count,)"
   ]
  },
  {
   "cell_type": "code",
   "execution_count": 5,
   "id": "366e87a2",
   "metadata": {},
   "outputs": [
    {
     "name": "stdout",
     "output_type": "stream",
     "text": [
      "[[1 2 3 4 5]]\n",
      "[[ 1  2  3  4  5]\n",
      " [ 6  7  8  9 10]\n",
      " [11 12 13 14 15]]\n"
     ]
    }
   ],
   "source": [
    "## To convert 1-D array into two 2-D\n",
    "arr2 = arr1.reshape(1,5) ## row,column\n",
    "print(arr2)\n",
    "arr2 = np.array([[1,2,3,4,5],[6,7,8,9,10],[11,12,13,14,15]]) ## 3x3 matrix or array\n",
    "print(arr2)"
   ]
  },
  {
   "cell_type": "code",
   "execution_count": 14,
   "id": "6e56b306",
   "metadata": {},
   "outputs": [
    {
     "name": "stdout",
     "output_type": "stream",
     "text": [
      "[[ 1  2  3  4  5]\n",
      " [ 6  7  8  9 10]\n",
      " [11 12 13 14 15]]\n",
      "[[1. 1. 1.]\n",
      " [1. 1. 1.]\n",
      " [1. 1. 1.]]\n",
      "[[1. 0. 0.]\n",
      " [0. 1. 0.]\n",
      " [0. 0. 1.]]\n"
     ]
    }
   ],
   "source": [
    "## range function to create array\n",
    "arr1 = np.arange(1,16).reshape(3,5) #create 3x3 matrix as above but without manually adding them\n",
    "print(arr1)\n",
    "\n",
    "## to create unit matrix\n",
    "print(np.ones((3,3)))\n",
    "\n",
    "## To create identity matrix\n",
    "print(np.eye(3)) ## only one dimenstion as identity can be created on square matrix alone"
   ]
  },
  {
   "cell_type": "markdown",
   "id": "b7ad169d",
   "metadata": {},
   "source": [
    "## Vectorized operations\n",
    "***"
   ]
  },
  {
   "cell_type": "code",
   "execution_count": 19,
   "id": "0958237f",
   "metadata": {},
   "outputs": [
    {
     "name": "stdout",
     "output_type": "stream",
     "text": [
      "addition [[0 0 0 0 0]\n",
      " [0 0 0 0 0]\n",
      " [0 0 0 0 0]]\n",
      "subtraction [[ 2  4  6  8 10]\n",
      " [12 14 16 18 20]\n",
      " [22 24 26 28 30]]\n",
      "multiplication [[  -1   -4   -9  -16  -25]\n",
      " [ -36  -49  -64  -81 -100]\n",
      " [-121 -144 -169 -196 -225]]\n",
      "division [[-1. -1. -1. -1. -1.]\n",
      " [-1. -1. -1. -1. -1.]\n",
      " [-1. -1. -1. -1. -1.]]\n"
     ]
    }
   ],
   "source": [
    "## Vector operations on matrix\n",
    "arr1 = np.arange(1,16).reshape(3,5)\n",
    "arr2 = np.arange(-1,-16,-1).reshape(3,5)\n",
    "\n",
    "## addition\n",
    "print(\"addition\", arr1+arr2)\n",
    "\n",
    "## subtraction\n",
    "print(\"subtraction\", arr1-arr2)\n",
    "\n",
    "## multiplication \n",
    "print(\"multiplication\",arr1*arr2)\n",
    "\n",
    "## division\n",
    "print(\"division\", arr1/arr2)"
   ]
  },
  {
   "cell_type": "markdown",
   "id": "89108c4b",
   "metadata": {},
   "source": [
    "## Universal functions\n",
    "***"
   ]
  },
  {
   "cell_type": "code",
   "execution_count": 20,
   "id": "bfbae12e",
   "metadata": {},
   "outputs": [
    {
     "name": "stdout",
     "output_type": "stream",
     "text": [
      "[[1.         1.41421356 1.73205081 2.         2.23606798]\n",
      " [2.44948974 2.64575131 2.82842712 3.         3.16227766]\n",
      " [3.31662479 3.46410162 3.60555128 3.74165739 3.87298335]]\n",
      "[[2.71828183e+00 7.38905610e+00 2.00855369e+01 5.45981500e+01\n",
      "  1.48413159e+02]\n",
      " [4.03428793e+02 1.09663316e+03 2.98095799e+03 8.10308393e+03\n",
      "  2.20264658e+04]\n",
      " [5.98741417e+04 1.62754791e+05 4.42413392e+05 1.20260428e+06\n",
      "  3.26901737e+06]]\n",
      "[[ 0.84147098  0.90929743  0.14112001 -0.7568025  -0.95892427]\n",
      " [-0.2794155   0.6569866   0.98935825  0.41211849 -0.54402111]\n",
      " [-0.99999021 -0.53657292  0.42016704  0.99060736  0.65028784]]\n",
      "[[0.         0.69314718 1.09861229 1.38629436 1.60943791]\n",
      " [1.79175947 1.94591015 2.07944154 2.19722458 2.30258509]\n",
      " [2.39789527 2.48490665 2.56494936 2.63905733 2.7080502 ]]\n"
     ]
    }
   ],
   "source": [
    "arr1 = np.arange(1,16).reshape(3,5)\n",
    "## square root\n",
    "print(np.sqrt(arr1)) \n",
    "## exponential or antilog\n",
    "print(np.exp(arr1))\n",
    "## sin\n",
    "print(np.sin(arr1))\n",
    "## log\n",
    "print(np.log(arr1))"
   ]
  },
  {
   "cell_type": "markdown",
   "id": "f2035cc4",
   "metadata": {},
   "source": [
    "## Slicing & Indexing\n",
    "***"
   ]
  },
  {
   "cell_type": "code",
   "execution_count": 26,
   "id": "b48b1be6",
   "metadata": {},
   "outputs": [
    {
     "name": "stdout",
     "output_type": "stream",
     "text": [
      "[1 2 3 4 5]\n",
      "[11 12 13 14 15]\n",
      "5\n",
      "[[ 6  7]\n",
      " [11 12]]\n"
     ]
    }
   ],
   "source": [
    "arr1 = np.arange(1,16).reshape(3,5)\n",
    "## to get any row\n",
    "print(arr1[0])\n",
    "## to get last row\n",
    "print(arr1[-1])\n",
    "## to get any row or column\n",
    "print(arr1[0][4])\n",
    "## to get row and column in range\n",
    "print(arr1[1:,:2])"
   ]
  },
  {
   "cell_type": "markdown",
   "id": "5c09a0a2",
   "metadata": {},
   "source": [
    "## Statistical operations\n",
    "***"
   ]
  },
  {
   "cell_type": "code",
   "execution_count": 29,
   "id": "8217753b",
   "metadata": {},
   "outputs": [
    {
     "name": "stdout",
     "output_type": "stream",
     "text": [
      "Standard deviation: 1.4142135623730951\n",
      "Mean: 3.0\n",
      "Median: 3.0\n",
      "Variance: 2.0\n",
      "Normalized data,  [-1.41421356 -0.70710678  0.          0.70710678  1.41421356]\n"
     ]
    }
   ],
   "source": [
    "arr1 = np.array([1,2,3,4,5])\n",
    "\n",
    "std = np.std(arr1)\n",
    "print(F\"Standard deviation: {std}\")\n",
    "mean = np.mean(arr1)\n",
    "print(F\"Mean: {mean}\")\n",
    "median = np.median(arr1)\n",
    "print(F\"Median: {median}\")\n",
    "variance = np.var(arr1)\n",
    "print(F\"Variance: {variance}\")\n",
    "## Normalized data\n",
    "normalize = (arr1-mean)/std\n",
    "print(\"Normalized data, \", normalize)"
   ]
  },
  {
   "cell_type": "markdown",
   "id": "a55ae2f9",
   "metadata": {},
   "source": [
    "## Logical operations (useful in Pandas)\n",
    "***"
   ]
  },
  {
   "cell_type": "code",
   "execution_count": 33,
   "id": "bb4dbbe8",
   "metadata": {},
   "outputs": [
    {
     "data": {
      "text/plain": [
       "array([6, 7])"
      ]
     },
     "execution_count": 33,
     "metadata": {},
     "output_type": "execute_result"
    }
   ],
   "source": [
    "data = np.array([1,2,3,4,5,6,7,8,9,10])\n",
    "data[data > 5]\n",
    "data[(data>5) & (data < 8)]"
   ]
  },
  {
   "cell_type": "code",
   "execution_count": null,
   "id": "675f0fd8",
   "metadata": {},
   "outputs": [],
   "source": []
  }
 ],
 "metadata": {
  "kernelspec": {
   "display_name": "venv",
   "language": "python",
   "name": "venv"
  },
  "language_info": {
   "codemirror_mode": {
    "name": "ipython",
    "version": 3
   },
   "file_extension": ".py",
   "mimetype": "text/x-python",
   "name": "python",
   "nbconvert_exporter": "python",
   "pygments_lexer": "ipython3",
   "version": "3.13.5"
  }
 },
 "nbformat": 4,
 "nbformat_minor": 5
}
