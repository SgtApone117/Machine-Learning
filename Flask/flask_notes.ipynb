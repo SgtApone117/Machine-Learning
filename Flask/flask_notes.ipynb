{
 "cells": [
  {
   "cell_type": "markdown",
   "id": "505d9821",
   "metadata": {},
   "source": [
    "# Quick overview of Flask Framework\n",
    "***"
   ]
  },
  {
   "cell_type": "markdown",
   "id": "9861e3a2",
   "metadata": {},
   "source": [
    "Flask is web framework which is created with the help of python programming.<br>\n",
    "Flask has two major components <br>\n",
    "1. `WSGI (Web server gateway interface)` which acts as intermediate between client and server requests. It enacts WSGI protocol which helps redirect and send response back and forth from web application to web server.<br>\n",
    "2. `Jinja2` which us web template engine, It is ued to create dynamic web pages and dynamic URL.<br>\n",
    "\n",
    "- Mostly used to build end to end web applications\n",
    "- Best way to build pipeline to fetch or use rest API to access the trained ML models"
   ]
  },
  {
   "cell_type": "markdown",
   "id": "107bae5e",
   "metadata": {},
   "source": [
    "# Basic skeleton for the Flask\n",
    "***"
   ]
  },
  {
   "cell_type": "code",
   "execution_count": null,
   "id": "faacdc14",
   "metadata": {},
   "outputs": [
    {
     "name": "stdout",
     "output_type": "stream",
     "text": [
      " * Serving Flask app '__main__'\n",
      " * Debug mode: on\n"
     ]
    },
    {
     "name": "stderr",
     "output_type": "stream",
     "text": [
      "WARNING: This is a development server. Do not use it in a production deployment. Use a production WSGI server instead.\n",
      " * Running on http://127.0.0.1:5000\n",
      "Press CTRL+C to quit\n",
      " * Restarting with stat\n"
     ]
    },
    {
     "ename": "SystemExit",
     "evalue": "1",
     "output_type": "error",
     "traceback": [
      "An exception has occurred, use %tb to see the full traceback.\n",
      "\u001b[31mSystemExit\u001b[39m\u001b[31m:\u001b[39m 1\n"
     ]
    }
   ],
   "source": [
    "# import flask\n",
    "from flask import Flask, render_template, request\n",
    "\n",
    "app = Flask(__name__) # start of the application\n",
    "\n",
    "@app.route(\"/\") # if methods=[\"GET\",\"POST\",\"DELETE\",\"PUT\"] is not mentioned by default GET API call is called\n",
    "def index(): # Each route functions should be unique\n",
    "    return \"Hello, World!!!\"\n",
    "\n",
    "if __name__ == \"__main__\":\n",
    "    app.run() # debug=True will reload the changes each time there has been any changes made\n"
   ]
  }
 ],
 "metadata": {
  "kernelspec": {
   "display_name": "venv",
   "language": "python",
   "name": "venv"
  },
  "language_info": {
   "codemirror_mode": {
    "name": "ipython",
    "version": 3
   },
   "file_extension": ".py",
   "mimetype": "text/x-python",
   "name": "python",
   "nbconvert_exporter": "python",
   "pygments_lexer": "ipython3",
   "version": "3.13.5"
  }
 },
 "nbformat": 4,
 "nbformat_minor": 5
}
