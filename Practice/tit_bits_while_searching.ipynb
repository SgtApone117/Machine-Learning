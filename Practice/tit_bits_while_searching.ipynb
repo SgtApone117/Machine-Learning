{
 "cells": [
  {
   "cell_type": "markdown",
   "id": "8463481d",
   "metadata": {},
   "source": [
    "# Important tricks or concepts learned by searching on google.\n",
    "***\n",
    "1. Get all pip list in a file use `pip freeze > pip.txt`"
   ]
  },
  {
   "cell_type": "markdown",
   "id": "a8fc76b1",
   "metadata": {},
   "source": []
  }
 ],
 "metadata": {
  "language_info": {
   "name": "python"
  }
 },
 "nbformat": 4,
 "nbformat_minor": 5
}
