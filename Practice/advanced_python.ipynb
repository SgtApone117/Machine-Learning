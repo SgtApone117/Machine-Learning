{
 "cells": [
  {
   "cell_type": "markdown",
   "id": "dbbb56ea",
   "metadata": {},
   "source": [
    "# Module: Iterators, Generators, and Decorators Assignments\n",
    "## Assignment done on Iterators, Generators and Decorators in python. Assignments are based on Krish Naik's ML course, but will keep adding anything new i encounter in this area."
   ]
  },
  {
   "cell_type": "markdown",
   "id": "f7dde757",
   "metadata": {},
   "source": [
    "### Assignment 1: Custom Iterator\n",
    "\n",
    "Create a custom iterator class named `Countdown` that takes a number and counts down to zero. Implement the `__iter__` and `__next__` methods. Test the iterator by using it in a for loop.\n",
    "\n",
    "### Solution 1:"
   ]
  },
  {
   "cell_type": "code",
   "execution_count": 19,
   "id": "392b04be",
   "metadata": {},
   "outputs": [
    {
     "name": "stdout",
     "output_type": "stream",
     "text": [
      "20 19 18 17 16 15 14 13 12 11 10 9 8 7 6 5 4 3 2 1 0 "
     ]
    }
   ],
   "source": [
    "class Countdown:\n",
    "    def __init__(self,n):\n",
    "        self.n = n\n",
    "    def __iter__(self):\n",
    "        self.size = self.n\n",
    "        return self\n",
    "    def __next__(self):\n",
    "        if self.size >= 0:\n",
    "            x = self.size\n",
    "            self.size -= 1\n",
    "            return x\n",
    "        raise StopIteration\n",
    "\n",
    "user_input = int(input().strip())\n",
    "for val in Countdown(user_input):\n",
    "    print(val, end= \" \")"
   ]
  },
  {
   "cell_type": "markdown",
   "id": "3cd39339",
   "metadata": {},
   "source": [
    "### Assignment 2: Custom Iterable Class\n",
    "\n",
    "Create a class named `MyRange` that mimics the behavior of the built-in `range` function. Implement the `__iter__` and `__next__` methods. Test the class by using it in a for loop.\n",
    "\n",
    "### Solution 2:"
   ]
  },
  {
   "cell_type": "code",
   "execution_count": 20,
   "id": "735a3490",
   "metadata": {},
   "outputs": [
    {
     "name": "stdout",
     "output_type": "stream",
     "text": [
      "0 1 2 3 4 5 6 7 8 9 10 \n",
      "Loop Ends.\n"
     ]
    }
   ],
   "source": [
    "class MyRange:\n",
    "    def __init__(self,start=0,end=0,step=1):\n",
    "        self.start = start\n",
    "        self.end = end\n",
    "        self.step = step\n",
    "    \n",
    "    def __iter__(self):\n",
    "        return self\n",
    "    def __next__(self):\n",
    "        if self.start <= self.end:\n",
    "            x = self.start\n",
    "            self.start += self.step\n",
    "            return x\n",
    "        print()\n",
    "        print(\"Loop Ends.\")\n",
    "        raise StopIteration\n",
    "\n",
    "for val in MyRange(0,10,1):\n",
    "    print(val, end=\" \")"
   ]
  },
  {
   "cell_type": "markdown",
   "id": "9ffde9c3-64ee-4b53-8ef8-4053e2eb97a6",
   "metadata": {},
   "source": [
    "### Assignment 3: Generator Function\n",
    "\n",
    "Write a generator function named `fibonacci` that yields the Fibonacci sequence. Test the generator by iterating over it and printing the first 10 Fibonacci numbers.\n",
    "\n",
    "### Solution 3:"
   ]
  },
  {
   "cell_type": "markdown",
   "id": "4361c8bd-9b53-4598-ac3b-f409d66d2a41",
   "metadata": {},
   "source": [
    "def fibonacci(n):\n",
    "    a, b = 0, 1\n",
    "    for _ in range(n):\n",
    "        yield a\n",
    "        a, b = b, a + b\n",
    "for num in fibonacci(10):\n",
    "    print(num,end=\" \")"
   ]
  },
  {
   "cell_type": "markdown",
   "id": "fe02d2eb-1d88-4ed2-a03e-5cfdc0d84a73",
   "metadata": {},
   "source": [
    "### Assignment 4: Generator Expression\n",
    "\n",
    "Create a generator expression that generates the squares of numbers from 1 to 10. Iterate over the generator and print each value.\n",
    "\n",
    "### Solution 4:"
   ]
  },
  {
   "cell_type": "code",
   "execution_count": 21,
   "id": "97f7e288-87c3-432f-b05a-239f56a5e59c",
   "metadata": {},
   "outputs": [
    {
     "name": "stdout",
     "output_type": "stream",
     "text": [
      "1 4 9 16 25 36 49 64 81 100 "
     ]
    }
   ],
   "source": [
    "squares = (i * i for i in range(1,11))\n",
    "for num in squares:\n",
    "    print(num, end=\" \")"
   ]
  },
  {
   "cell_type": "markdown",
   "id": "e7051c9c-d944-4403-9328-94a39df5b476",
   "metadata": {},
   "source": [
    "### Assignment 5: Chaining Generators\n",
    "\n",
    "Write two generator functions: `even_numbers` that yields even numbers up to a limit, and `squares` that yields the square of each number from another generator. Chain these generators to produce the squares of even numbers up to 20.\n",
    "\n",
    "### Solution 5:"
   ]
  },
  {
   "cell_type": "code",
   "execution_count": 22,
   "id": "29e55542-6f24-41f0-9b66-27b718b92087",
   "metadata": {},
   "outputs": [
    {
     "name": "stdout",
     "output_type": "stream",
     "text": [
      "0 4 16 36 64 100 "
     ]
    }
   ],
   "source": [
    "def square_even_number(n):\n",
    "    for number in n:\n",
    "        yield number*number\n",
    "\n",
    "def even_numbers(n):\n",
    "    for i in range(n+1):\n",
    "        if i % 2 == 0:\n",
    "            yield i\n",
    "even_numbers_generator = even_numbers(10)\n",
    "squares = square_even_number(even_numbers_generator)\n",
    "\n",
    "for square in squares:\n",
    "    print(square, end=\" \")"
   ]
  },
  {
   "cell_type": "markdown",
   "id": "000373aa-8052-4ebd-be97-36a0c2fae020",
   "metadata": {},
   "source": [
    "### Assignment 6: Simple Decorator\n",
    "\n",
    "Write a decorator named `time_it` that measures the execution time of a function. Apply this decorator to a function that calculates the factorial of a number.\n",
    "\n",
    "### Solution 6:"
   ]
  },
  {
   "cell_type": "code",
   "execution_count": 23,
   "id": "50691cdd-ac99-4298-976d-38ea5c9473ac",
   "metadata": {},
   "outputs": [
    {
     "name": "stdout",
     "output_type": "stream",
     "text": [
      "Execution time: 0.0 seconds\n",
      "Execution time: 0.0009992122650146484 seconds\n",
      "Execution time: 0.0009992122650146484 seconds\n",
      "Execution time: 0.0009992122650146484 seconds\n",
      "Execution time: 0.0009992122650146484 seconds\n",
      "Execution time: 0.0009992122650146484 seconds\n",
      "120\n"
     ]
    }
   ],
   "source": [
    "import time\n",
    "def time_it(func):\n",
    "    def wrapper(*args, **kwargs):\n",
    "        start_time = time.time()\n",
    "        result = func(*args, **kwargs)\n",
    "        end_time = time.time()\n",
    "        print(f\"Execution time: {end_time - start_time} seconds\")\n",
    "        return result\n",
    "    return wrapper\n",
    "\n",
    "@time_it\n",
    "def factorial(n):\n",
    "    if n == 0:\n",
    "        return 1\n",
    "    return n * factorial(n-1)\n",
    "    \n",
    "print(factorial(5))"
   ]
  },
  {
   "cell_type": "markdown",
   "id": "95aca819-b739-4b17-aeec-4d4f5b34fa0c",
   "metadata": {},
   "source": [
    "### Assignment 7: Decorator with Arguments\n",
    "\n",
    "Write a decorator named `repeat` that takes an argument `n` and repeats the execution of the decorated function `n` times. Apply this decorator to a function that prints a message.\n",
    "\n",
    "### Solution 7:"
   ]
  },
  {
   "cell_type": "code",
   "execution_count": null,
   "id": "657926e4-c7c3-4316-ba8d-26b4e3ce7448",
   "metadata": {},
   "outputs": [
    {
     "name": "stdout",
     "output_type": "stream",
     "text": [
      "Hello\n",
      "Hello\n",
      "Hello\n",
      "Hello\n",
      "Hello\n",
      "Hello\n",
      "Hello\n",
      "Hello\n",
      "Hello\n",
      "Hello\n"
     ]
    }
   ],
   "source": [
    "def repeat(n):\n",
    "    def decorator(func):\n",
    "        def wrapper(*args, **kwargs):\n",
    "            for _ in range(n):\n",
    "                func(*args, **kwargs)\n",
    "        return wrapper\n",
    "    return decorator\n",
    "    \n",
    "@repeat(10)\n",
    "def print_message():\n",
    "    print(\"Hello\")\n",
    "\n",
    "print_message()"
   ]
  },
  {
   "cell_type": "markdown",
   "id": "d52f3916-56e5-4cab-8f22-b632fb97088b",
   "metadata": {},
   "source": [
    "### Assignment 8: Nested Decorators\n",
    "\n",
    "Write two decorators: `uppercase` that converts the result of a function to uppercase, and `exclaim` that adds an exclamation mark to the result of a function. Apply both decorators to a function that returns a greeting message.\n",
    "\n",
    "### Solution 8:"
   ]
  },
  {
   "cell_type": "code",
   "execution_count": 25,
   "id": "c5b21a63-90c2-4f15-a35c-38af5580eec2",
   "metadata": {},
   "outputs": [
    {
     "name": "stdout",
     "output_type": "stream",
     "text": [
      "NAMASTE!\n"
     ]
    }
   ],
   "source": [
    "def upper_case(func):\n",
    "    def wrapper(*args, **kwargs):\n",
    "        #print(\"In to_upper decorator\")\n",
    "        return func(*args, **kwargs).upper()\n",
    "    return wrapper\n",
    "\n",
    "def exclaim(func):\n",
    "    def wrapper(*args, **kwargs):\n",
    "        #print(\"In add_exclaim decorator\")\n",
    "        return func(*args, **kwargs) + \"!\"\n",
    "    return wrapper\n",
    "\n",
    "@upper_case\n",
    "@exclaim\n",
    "def print_greetings(s):\n",
    "    return s\n",
    "\n",
    "print(print_greetings(\"namaste\"))"
   ]
  },
  {
   "cell_type": "markdown",
   "id": "7377ceaa-0784-4d3d-9334-abefdb8cd419",
   "metadata": {},
   "source": [
    "### Assignment 9: Class Decorator\n",
    "\n",
    "Create a class decorator named `singleton` that ensures a class has only one instance. Apply this decorator to a class named `DatabaseConnection` and test it.\n",
    "\n",
    "### Solution 9:"
   ]
  },
  {
   "cell_type": "code",
   "execution_count": 26,
   "id": "4dd2e82d-82e5-40da-82b8-25906cc54b9f",
   "metadata": {},
   "outputs": [
    {
     "name": "stdout",
     "output_type": "stream",
     "text": [
      "Database connection created\n"
     ]
    }
   ],
   "source": [
    "def Singleton(cls):\n",
    "    instances = {}\n",
    "    def get_instance(*args, **kwargs):\n",
    "        if cls not in instances:\n",
    "            instances[cls] = cls(*args, **kwargs)\n",
    "        return instances[cls]\n",
    "    return get_instance\n",
    "\n",
    "@Singleton\n",
    "class DatabaseConnection:\n",
    "    def __init__(self):\n",
    "        print(\"Database connection created\")\n",
    "test = DatabaseConnection()\n",
    "test1 = DatabaseConnection()"
   ]
  },
  {
   "cell_type": "markdown",
   "id": "8cdd1ccd-f93f-423f-847b-5c9f809d26bc",
   "metadata": {},
   "source": [
    "### Assignment 10: Iterator Protocol with Decorators\n",
    "\n",
    "Create a custom iterator class named `ReverseString` that iterates over a string in reverse. Write a decorator named `uppercase` that converts the string to uppercase before reversing it. Apply the decorator to the `ReverseString` class.\n",
    "\n",
    "### Solution 10:"
   ]
  },
  {
   "cell_type": "code",
   "execution_count": 27,
   "id": "07a5f9ad-8420-4c8d-9761-caac7e786b14",
   "metadata": {},
   "outputs": [
    {
     "name": "stdout",
     "output_type": "stream",
     "text": [
      "TEEMUS"
     ]
    }
   ],
   "source": [
    "def upper_case(cls):\n",
    "    class wrapped(cls):\n",
    "        #print(\"Inside inner class\") \n",
    "        #print(\"Decorated the class\")\n",
    "        def __init__(self,*args, **kwargs):\n",
    "            super().__init__(*args, **kwargs)\n",
    "            self.s = self.s.upper()\n",
    "    return wrapped\n",
    "@upper_case\n",
    "class ReverseString:\n",
    "    def __init__(self,s):\n",
    "        self.s = s\n",
    "    def __iter__(self):\n",
    "        self.size = len(self.s)-1\n",
    "        return self\n",
    "    def __next__(self):\n",
    "        if self.size >= 0:\n",
    "            x = self.s[self.size]\n",
    "            self.size -= 1\n",
    "            return x\n",
    "        raise StopIteration\n",
    "\n",
    "for char in ReverseString(\"sumeet\"):\n",
    "    print(char,end=\"\")"
   ]
  },
  {
   "cell_type": "markdown",
   "id": "800405bb-c67d-449c-a5f5-b96f9ba0d103",
   "metadata": {},
   "source": [
    "### Assignment 11: Stateful Generators\n",
    "\n",
    "Write a stateful generator function named `counter` that takes a start value and increments it by 1 each time it is called. Test the generator by iterating over it and printing the first 10 values.\n",
    "\n",
    "### Solution 11:"
   ]
  },
  {
   "cell_type": "code",
   "execution_count": 28,
   "id": "822157ab",
   "metadata": {},
   "outputs": [
    {
     "name": "stdout",
     "output_type": "stream",
     "text": [
      "0 1 2 3 4 5 6 7 8 9 10 11 12 13 14 15 16 17 18 19 20 21 22 23 24 25 26 27 28 29 "
     ]
    }
   ],
   "source": [
    "def counter(start):\n",
    "    while True:\n",
    "        yield start\n",
    "        start += 1\n",
    "        \n",
    "numbers = counter(0)\n",
    "for _ in range(30):\n",
    "    print(next(numbers), end=\" \") "
   ]
  },
  {
   "cell_type": "markdown",
   "id": "de06f5fc-7e10-486c-a085-ab18a55f1101",
   "metadata": {},
   "source": [
    "### Assignment 12: Generator with Exception Handling\n",
    "\n",
    "Write a generator function named `safe_divide` that takes a list of numbers and yields the division of each number by a given divisor. Implement exception handling within the generator to handle division by zero.\n",
    "\n",
    "### Solution 12:"
   ]
  },
  {
   "cell_type": "code",
   "execution_count": 29,
   "id": "248c6a90-16fc-4d9a-83ff-27df2a9d47a9",
   "metadata": {},
   "outputs": [
    {
     "name": "stdout",
     "output_type": "stream",
     "text": [
      "Cannot divide by 0!!\n"
     ]
    }
   ],
   "source": [
    "def safe_divide(listOfDividends, divisor):\n",
    "    try:\n",
    "        for number in listOfDividends:\n",
    "            yield number/divisor\n",
    "    except ZeroDivisionError: \n",
    "        print(\"Cannot divide by 0!!\")\n",
    "\n",
    "numbers = [10, 20, 30, 40]\n",
    "for result in safe_divide(numbers, 0):\n",
    "    print(result)"
   ]
  },
  {
   "cell_type": "markdown",
   "id": "534bd316-2b27-4f5b-8066-00e23ba9259e",
   "metadata": {},
   "source": [
    "### Assignment 13: Context Manager Decorator\n",
    "\n",
    "Write a decorator named `open_file` that manages the opening and closing of a file. Apply this decorator to a function that writes some text to a file.\n",
    "\n",
    "### Solution 13:"
   ]
  },
  {
   "cell_type": "code",
   "execution_count": 30,
   "id": "c919cf25-8586-4d3c-99fc-deeabe313f48",
   "metadata": {},
   "outputs": [
    {
     "name": "stdout",
     "output_type": "stream",
     "text": [
      "before function call decorators\n",
      "After decorators\n"
     ]
    }
   ],
   "source": [
    "def open_file(fileName, fileMode):\n",
    "    def decorator(func):\n",
    "        def wrapper(*args, **kwargs):\n",
    "            print(\"before function call decorators\")\n",
    "            with open(fileName,fileMode) as file:\n",
    "                return func(file, *args, **kwargs)\n",
    "        return wrapper\n",
    "    return decorator\n",
    "\n",
    "@open_file(\"input.txt\", 'w')\n",
    "def write_to_file(file, text):\n",
    "    print(\"After decorators\")\n",
    "    file.write(text)\n",
    "\n",
    "write_to_file(\"sumeet\")"
   ]
  },
  {
   "cell_type": "markdown",
   "id": "80df2d7d-f704-4a86-b0f1-59e0e8550025",
   "metadata": {},
   "source": [
    "### Assignment 14: Infinite Iterator\n",
    "\n",
    "Create an infinite iterator class named `InfiniteCounter` that starts from a given number and increments by 1 indefinitely. Test the iterator by printing the first 10 values generated by it.\n",
    "\n",
    "### Solution 14:"
   ]
  },
  {
   "cell_type": "code",
   "execution_count": 31,
   "id": "d458f05d",
   "metadata": {},
   "outputs": [
    {
     "name": "stdout",
     "output_type": "stream",
     "text": [
      "1 2 3 4 5 6 7 8 9 10 11\n"
     ]
    }
   ],
   "source": [
    "class InfiniteCounter:\n",
    "    def __init__(self,start):\n",
    "        self.start = start\n",
    "    def __iter__(self):\n",
    "        return self\n",
    "    def __next__(self):\n",
    "        while True:\n",
    "            x = self.start\n",
    "            self.start += 1\n",
    "            return x\n",
    "\n",
    "iter = InfiniteCounter(1)\n",
    "\n",
    "for _ in range(10):\n",
    "    print(next(iter), end=\" \")\n",
    "print(next(iter))"
   ]
  },
  {
   "cell_type": "markdown",
   "id": "4da1d1f9-4ee8-4660-9b18-98bb139b8f5d",
   "metadata": {},
   "source": [
    "### Assignment 15: Generator Pipeline\n",
    "\n",
    "Write three generator functions: `integers` that yields integers from 1 to 10, `doubles` that yields each integer doubled, and `negatives` that yields the negative of each doubled value. Chain these generators to create a pipeline that produces the negative doubled values of integers from 1 to 10.\n",
    "\n",
    "### Solution 15:"
   ]
  },
  {
   "cell_type": "code",
   "execution_count": 32,
   "id": "fee7b669-c5fd-4ec8-b1b8-0b77dccbe45d",
   "metadata": {},
   "outputs": [
    {
     "name": "stdout",
     "output_type": "stream",
     "text": [
      "-2 -4 -6 -8 -10 -12 -14 -16 -18 -20 "
     ]
    }
   ],
   "source": [
    "def integers():\n",
    "    for i in range(1,11):\n",
    "        yield i\n",
    "\n",
    "def doubles(integers):\n",
    "    for integer in integers:\n",
    "        yield integer*2\n",
    "\n",
    "def negatives(doubled):\n",
    "    for number in doubled:\n",
    "        yield (-1 * number)\n",
    "    \n",
    "integer_list = integers()\n",
    "doubled = doubles(integer_list)\n",
    "negative_list = negatives(doubled)\n",
    "\n",
    "for num in negative_list:\n",
    "    print(num, end=\" \")"
   ]
  }
 ],
 "metadata": {
  "kernelspec": {
   "display_name": "venv",
   "language": "python",
   "name": "venv"
  },
  "language_info": {
   "codemirror_mode": {
    "name": "ipython",
    "version": 3
   },
   "file_extension": ".py",
   "mimetype": "text/x-python",
   "name": "python",
   "nbconvert_exporter": "python",
   "pygments_lexer": "ipython3",
   "version": "3.12.7"
  }
 },
 "nbformat": 4,
 "nbformat_minor": 5
}
